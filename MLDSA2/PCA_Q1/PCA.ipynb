{
  "nbformat": 4,
  "nbformat_minor": 0,
  "metadata": {
    "colab": {
      "provenance": []
    },
    "kernelspec": {
      "name": "python3",
      "display_name": "Python 3"
    },
    "language_info": {
      "name": "python"
    }
  },
  "cells": [
    {
      "cell_type": "markdown",
      "source": [
        "# QUESTION:\n",
        "\n",
        "Part 1: PCA using NumPy\n",
        "\n",
        "In the first part of the assignment, participants must implement Principal Component Analysis (PCA) using the NumPy library(If the data is too big to work with resize the images to 32x32 or 16x16 using skimage library). The dataset provided contains high-dimensional data, and the goal is to reduce the dimensionality using PCA while preserving the most important information. Participants will be evaluated based on their implementation, experimentation with different components."
      ],
      "metadata": {
        "id": "JGNSPYBFJv2U"
      }
    },
    {
      "cell_type": "markdown",
      "source": [
        "## Let's first import the data set from kaggle"
      ],
      "metadata": {
        "id": "24BYsgPZJ4Ca"
      }
    },
    {
      "cell_type": "code",
      "execution_count": 1,
      "metadata": {
        "id": "6sVqzf10JDQA"
      },
      "outputs": [],
      "source": [
        "!mkdir -p ~/.kaggle\n",
        "!cp kaggle.json ~/.kaggle/"
      ]
    },
    {
      "cell_type": "code",
      "source": [
        "!kaggle competitions download -c mlds-assignment-2"
      ],
      "metadata": {
        "colab": {
          "base_uri": "https://localhost:8080/"
        },
        "id": "LqkxL-IsKWcC",
        "outputId": "c6bc1f46-4ad6-49bb-812f-75fe044c6265"
      },
      "execution_count": 2,
      "outputs": [
        {
          "output_type": "stream",
          "name": "stdout",
          "text": [
            "Warning: Your Kaggle API key is readable by other users on this system! To fix this, you can run 'chmod 600 /root/.kaggle/kaggle.json'\n",
            "Downloading mlds-assignment-2.zip to /content\n",
            " 93% 238M/256M [00:02<00:00, 102MB/s]\n",
            "100% 256M/256M [00:02<00:00, 113MB/s]\n"
          ]
        }
      ]
    },
    {
      "cell_type": "markdown",
      "source": [
        "### Unzipping the data downloaded from Kaggle"
      ],
      "metadata": {
        "id": "LIAewnRuKk5L"
      }
    },
    {
      "cell_type": "code",
      "source": [
        "import zipfile\n",
        "zip_ref = zipfile.ZipFile('/content/mlds-assignment-2.zip', 'r')\n",
        "zip_ref.extractall('/content')\n",
        "zip_ref.close()"
      ],
      "metadata": {
        "id": "6gDJRFgdKp_O"
      },
      "execution_count": 3,
      "outputs": []
    },
    {
      "cell_type": "markdown",
      "source": [
        "### Images are concatenated with their mask, let's separate them"
      ],
      "metadata": {
        "id": "TuoA_W18K6-c"
      }
    },
    {
      "cell_type": "markdown",
      "source": [
        "#### Saving color images in my_train_img folder"
      ],
      "metadata": {
        "id": "MYLRero0LDA5"
      }
    },
    {
      "cell_type": "code",
      "source": [
        "import os\n",
        "import cv2\n",
        "import numpy as np\n",
        "\n",
        "# Create a new folder to store sliced images\n",
        "new_folder = \"my_train_img\"\n",
        "os.makedirs(new_folder, exist_ok=True)\n",
        "\n",
        "def rgb_to_gray(rgb_image):\n",
        "    # Convert RGB image to grayscale\n",
        "    gray_image = cv2.cvtColor(rgb_image, cv2.COLOR_RGB2GRAY)\n",
        "    gray_image_3d = np.expand_dims(gray_image, axis=-1)\n",
        "    return gray_image_3d\n",
        "\n",
        "# Function to slice images columnwise\n",
        "def slice_images(input_folder, output_folder, width=256):\n",
        "    # Iterate through each image in the input folder\n",
        "    for i in range(919):# There are total 919 images\n",
        "        # Read the image\n",
        "        img_path = os.path.join(\"train/train\", f\"Img_{i}.png\")\n",
        "        image = cv2.imread(img_path)\n",
        "\n",
        "        # Slice the image columnwise\n",
        "        sliced_image = image[:, 0:256, :]  # Taking only the first 256 columns\n",
        "\n",
        "        # Save the sliced image\n",
        "        output_path = os.path.join(new_folder, f\"Img_{i}.png\")\n",
        "        cv2.imwrite(output_path, sliced_image)\n",
        "\n",
        "# Slice images in the specified folder and save them to the new folder\n",
        "slice_images(\"train/train\", new_folder)"
      ],
      "metadata": {
        "id": "09Om9TKiTL7p"
      },
      "execution_count": 4,
      "outputs": []
    },
    {
      "cell_type": "markdown",
      "source": [
        "#### Saving their corresponding mask (if the image file name is Img_i.png, then the name of it's mask image in my_train_seg is also Img_i.png)"
      ],
      "metadata": {
        "id": "NwDk7nYKLqEf"
      }
    },
    {
      "cell_type": "code",
      "source": [
        "import os\n",
        "import cv2\n",
        "import numpy as np\n",
        "\n",
        "# Create a new folder to store sliced images\n",
        "new_folder = \"my_train_seg\"\n",
        "os.makedirs(new_folder, exist_ok=True)\n",
        "\n",
        "def rgb_to_gray(rgb_image):\n",
        "    # Convert RGB image to grayscale\n",
        "    gray_image = cv2.cvtColor(rgb_image, cv2.COLOR_RGB2GRAY)\n",
        "    gray_image_3d = np.expand_dims(gray_image, axis=-1)\n",
        "    return gray_image_3d\n",
        "\n",
        "# Function to slice images columnwise\n",
        "def slice_images(input_folder, output_folder, width=256):\n",
        "    # Iterate through each image in the input folder\n",
        "    for i in range(919):\n",
        "        # Read the image\n",
        "        img_path = os.path.join(\"train/train\", f\"Img_{i}.png\")\n",
        "        image = cv2.imread(img_path)\n",
        "\n",
        "        # Slice the image columnwise\n",
        "        sliced_image = image[:, 256:, :]  # Taking only the last 256 columns\n",
        "\n",
        "        # Save the sliced image\n",
        "        output_path = os.path.join(new_folder, f\"Img_{i}.png\")\n",
        "        cv2.imwrite(output_path, sliced_image)\n",
        "\n",
        "# Slice images in the specified folder and save them to the new folder\n",
        "slice_images(\"train/train\", new_folder)"
      ],
      "metadata": {
        "id": "fixA3jpdL8cP"
      },
      "execution_count": 5,
      "outputs": []
    },
    {
      "cell_type": "markdown",
      "source": [
        "## PCA:\n",
        "\n",
        "Principal component analysis (PCA) is a dimensionality reduction and machine learning method used to simplify a large data set into a smaller set while still maintaining significant patterns and trends.\n",
        "\n",
        "Let $X$ be a $m\\times n$ data set which contains information of m samples each having n features.So, let's call ther are n feature dimensions but ofthen all the feature dimrension may not be useful or it can be a case that due to limited computation resource we may need to consider only first few the most meaningful featuers for our computation.In this case PCA plays a vital role to giver us the most valuable features.\n",
        "\n",
        "### **Algorithm for PCA**:\n",
        "\n",
        "\n",
        "\n",
        "Sure, here's the mathematical algorithm for Principal Component Analysis (PCA) applied to a data matrix D of size  m×n, where m is the number of samples and\n",
        "n is the number of features for each sample:\n",
        "\n",
        "#### **Standardize the Data**(optional: As it will not change the eigen-values):\n",
        "\n",
        "Subtract the mean (μ) from each feature and divide by the standard deviation (\n",
        "σ) to standardize the data:X= (D−μ)/σ\n",
        "​\n",
        "\n",
        "#### **Compute the Covariance Matrix**:\n",
        "\n",
        "Compute the covariance matrix (Σ) of the standardized data:\n",
        "Σ=(1/m-1)$X^{T}X$\n",
        "\n",
        "#### **Compute Eigenvectors and Eigenvalues**:\n",
        "\n",
        "Compute the eigenvectors (v) and eigenvalues (λ) of the covariance matrix\n",
        "Σ:\n",
        "Σv=λv\n",
        "\n",
        "#### **Sort Eigenvalues**:\n",
        "\n",
        "$X^{T}X$ being summetric positive semi-definite , all its eigen value will be non-negative.\n",
        "\n",
        "Sort the eigenvalues ($\\lambda_1 \\ge \\lambda_2 \\ge ...\\ge \\lambda_n \\ge 0 $)\n",
        "in descending order and arrange the corresponding eigenvectors ($v_1,..,v_n$)accordingly.\n",
        "\n",
        "\n",
        "#### **Select Principal Components**:\n",
        "\n",
        "Choose the top k eigenvectors (principal components) that correspond to the largest eigenvalues, where k is the desired dimensionality of the reduced space.\n",
        "\n",
        "\n",
        "#### **Project Data onto Principal Components**:\n",
        "\n",
        "Project the standardized data X onto the selected k eigenvectors to obtain the reduced-dimensional representation (Z):\n",
        "Z=XV,where V is a matrix containing the selected eigenvectors as columns.\n",
        "\n",
        "\n",
        "#### **Explained Variance**:\n",
        "\n",
        "Compute the explained variance ratio (explained_variance(i)) for each principal component:\n",
        "explained_variance(i)= $\\frac{\\lambda_i}{\\Sigma_{i=1}^{n}\\lambda_i}$\n",
        "\n",
        "\n",
        "\n"
      ],
      "metadata": {
        "id": "CMT7rzLtM22k"
      }
    },
    {
      "cell_type": "code",
      "source": [
        "import os\n",
        "import cv2\n",
        "import numpy as np\n",
        "import pandas as pd\n",
        "\n",
        "#Define the function for PCA\n",
        "def pca(X, n_components):\n",
        "    # Calculate mean of the data\n",
        "    mean = np.mean(X, axis=0)\n",
        "\n",
        "    # Center the data\n",
        "    X_centered = X - mean\n",
        "\n",
        "    # Compute covariance matrix\n",
        "    covariance_matrix = np.cov(X_centered, rowvar=False)\n",
        "\n",
        "    # Compute eigenvalues and eigenvectors of the covariance matrix\n",
        "    eigenvalues, eigenvectors = np.linalg.eig(covariance_matrix)\n",
        "\n",
        "    # Sort eigenvalues and corresponding eigenvectors\n",
        "    sorted_indices = np.argsort(eigenvalues)[::-1]\n",
        "    sorted_eigenvalues = eigenvalues[sorted_indices]\n",
        "    sorted_eigenvectors = eigenvectors[:, sorted_indices]\n",
        "\n",
        "    # Select top n_components eigenvectors\n",
        "    top_eigenvectors = sorted_eigenvectors[:, :n_components]\n",
        "\n",
        "    # Project the data onto the selected eigenvectors\n",
        "    X_pca = np.dot(X_centered, top_eigenvectors)\n",
        "\n",
        "    return X_pca, top_eigenvectors\n",
        "\n",
        "\n"
      ],
      "metadata": {
        "id": "rw7hCp1aMnzo"
      },
      "execution_count": null,
      "outputs": []
    },
    {
      "cell_type": "markdown",
      "source": [
        "We projected image data set on a **10 dimensional** (considering only first 10 principal eigen-vectors) space. $X^{T}X$ being symteric positive definite it is diagonalizable and thus it has eigen vectors which are linearly independent.The result is saved in **my_train10.csv**\n",
        "\n",
        "Also for projection on **2 dimensional**( considering only 2 pricipal eigen vectors) space is saved at **my_train_pca2.csv**, and plotted as below.\n",
        "\n",
        "\n"
      ],
      "metadata": {
        "id": "gsO-ZORrT4Wv"
      }
    },
    {
      "cell_type": "code",
      "source": [
        "# Load images\n",
        "folder = \"C:/Users/sk731/OneDrive/Desktop/MLDSA2/train/my_train_img/\"\n",
        "images = []\n",
        "for i in range(919):#Total number of images in the folder\n",
        "    img_path = os.path.join(folder, f\"img_{i}.png\")\n",
        "    image = cv2.imread(img_path)\n",
        "    resized_image = cv2.resize(image, (16, 16))#Resizing the image to 16*16*3\n",
        "    images.append(resized_image.flatten())\n",
        "X = np.array(images)\n",
        "\n",
        "# Apply PCA to reduce dimensionality to 10 components\n",
        "X_pca, _ = pca(X, 2)\n",
        "\n",
        "# Load CSV file\n",
        "csv_file = \"C:/Users/sk731/OneDrive/Desktop/MLDSA2/train.csv\"\n",
        "df = pd.read_csv(csv_file)\n",
        "\n",
        "# Drop \"id\" column from CSV\n",
        "df.drop(columns=[\"id\"], inplace=True)\n",
        "\n",
        "# Add 2 principal components to DataFrame\n",
        "for i in range(2):\n",
        "    df[f\"PC{i+1}\"] = X_pca[:, i]\n",
        "\n",
        "# Save updated CSV file\n",
        "df.to_csv(\"C:/Users/sk731/OneDrive/Desktop/MLDSA2/my_train_pca_2.csv\", index=False)\n",
        "print(\"Updated CSV file saved successfully\")"
      ],
      "metadata": {
        "id": "TO5hi55cT3xA"
      },
      "execution_count": null,
      "outputs": []
    },
    {
      "cell_type": "code",
      "source": [
        "import pandas as pd\n",
        "import matplotlib.pyplot as plt\n",
        "\n",
        "# Load the CSV file\n",
        "data = pd.read_csv(\"/content/my_train_pca_2.csv\")\n",
        "\n",
        "# Separate points based on their label\n",
        "label_0 = data[data['binary_pred'] == 0]\n",
        "label_1 = data[data['binary_pred'] == 1]\n",
        "\n",
        "# Plot the points\n",
        "plt.scatter(label_0['PC1'], label_0['PC2'], color='green', label='Label 0')\n",
        "plt.scatter(label_1['PC1'], label_1['PC2'], color='red', label='Label 1')\n",
        "\n",
        "# Add labels and legend\n",
        "plt.xlabel('X')\n",
        "plt.ylabel('Y')\n",
        "plt.legend()\n",
        "\n",
        "# Save the plot as an image\n",
        "plt.savefig('pca_plot.png')\n",
        "\n",
        "# Show the plot\n",
        "plt.show()"
      ],
      "metadata": {
        "colab": {
          "base_uri": "https://localhost:8080/",
          "height": 449
        },
        "id": "POJsmzUNVHb5",
        "outputId": "1192928e-e7d4-472c-c32a-8151d9c23737"
      },
      "execution_count": 6,
      "outputs": [
        {
          "output_type": "display_data",
          "data": {
            "text/plain": [
              "<Figure size 640x480 with 1 Axes>"
            ],
            "image/png": "[encoded data removed]"
          },
          "metadata": {}
        }
      ]
    },
    {
      "cell_type": "markdown",
      "source": [
        "### Comment:\n",
        "\n",
        "As we can see with reducded dimensionality( 2 principal components only), it is very hard to classify them with a linear boundary."
      ],
      "metadata": {
        "id": "c3jDx6qTWUE2"
      }
    }
  ]
}